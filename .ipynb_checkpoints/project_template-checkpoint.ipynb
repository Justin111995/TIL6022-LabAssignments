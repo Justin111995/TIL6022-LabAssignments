{
 "cells": [
  {
   "cell_type": "markdown",
   "metadata": {},
   "source": [
    "# Project Group - \n",
    "\n",
    "Members: Flip Boekhorst, Sjoerd Norbart, Timo van Manen, Justin Plasmeijer, \n",
    "Fariba Tavakoli\n",
    "\n",
    "Student numbers: 4694880, 4700139, "
   ]
  },
  {
   "cell_type": "markdown",
   "metadata": {},
   "source": [
    "# Research Objective\n",
    "\n",
    "*Requires data modeling and quantitative research in Transport, Infrastructure & Logistics*\n",
    "\n",
    "\n"
   ]
  },
  {
   "cell_type": "markdown",
   "metadata": {},
   "source": [
    "How does the urbanization of a region affect the distance traveled by a mode of transport?\n",
    "\n",
    "How does the urbanization of a region affect mobility patterns?\n"
   ]
  },
  {
   "cell_type": "markdown",
   "metadata": {},
   "source": [
    "# Contribution Statement\n",
    "\n",
    "*Be specific. Some of the tasks can be coding (expect everyone to do this), background research, conceptualisation, visualisation, data analysis, data modelling*"
   ]
  },
  {
   "cell_type": "markdown",
   "metadata": {},
   "source": [
    "-\tdistance traveled versus amount of trips\n",
    "-\tdistance traveled per mode of transport\n",
    "-\tamount of trips per mode of transport\n",
    "-\tdistance traveled per motive\n",
    "-\tamount of trips per motive"
   ]
  },
  {
   "cell_type": "markdown",
   "metadata": {},
   "source": [
    "# Data Used"
   ]
  },
  {
   "cell_type": "markdown",
   "metadata": {},
   "source": [
    "We only focus on pre-corona data before march 2020 in the Netherlands. Datasets we might use:\n",
    "●\thttps://opendata.cbs.nl/statline/portal.html?_la=en&_catalog=CBS&tableId=84710ENG&_theme=1159\n"
   ]
  },
  {
   "cell_type": "markdown",
   "metadata": {},
   "source": [
    "# Data Pipeline"
   ]
  },
  {
   "cell_type": "code",
   "execution_count": 1,
   "metadata": {},
   "outputs": [],
   "source": [
    "# Import all libraries we use\n",
    "\n",
    "import pandas as pd\n",
    "import seaborn as sns\n",
    "import plotly.express as px\n",
    "import numpy as np\n",
    "import plotly.io as pio\n",
    "import matplotlib.pyplot as plt"
   ]
  },
  {
   "cell_type": "code",
   "execution_count": 2,
   "metadata": {},
   "outputs": [
    {
     "data": {
      "text/html": [
       "<div>\n",
       "<style scoped>\n",
       "    .dataframe tbody tr th:only-of-type {\n",
       "        vertical-align: middle;\n",
       "    }\n",
       "\n",
       "    .dataframe tbody tr th {\n",
       "        vertical-align: top;\n",
       "    }\n",
       "\n",
       "    .dataframe thead th {\n",
       "        text-align: right;\n",
       "    }\n",
       "</style>\n",
       "<table border=\"1\" class=\"dataframe\">\n",
       "  <thead>\n",
       "    <tr style=\"text-align: right;\">\n",
       "      <th></th>\n",
       "      <th>ï»¿\"Travel motives\"</th>\n",
       "      <th>Population</th>\n",
       "      <th>Travel modes</th>\n",
       "      <th>Margins</th>\n",
       "      <th>Region characteristics</th>\n",
       "      <th>Periods</th>\n",
       "      <th>Average per person per day/Trips (number)</th>\n",
       "      <th>Average per person per day/Distance travelled                       (passenger kilometres )</th>\n",
       "      <th>Average per person per year/Trips (number)</th>\n",
       "      <th>Average per person per year/Distance travelled    (passenger kilometres )</th>\n",
       "    </tr>\n",
       "  </thead>\n",
       "  <tbody>\n",
       "    <tr>\n",
       "      <th>0</th>\n",
       "      <td>Total</td>\n",
       "      <td>Population: 12 years or older</td>\n",
       "      <td>Total</td>\n",
       "      <td>Value</td>\n",
       "      <td>The Netherlands</td>\n",
       "      <td>2018</td>\n",
       "      <td>2.75</td>\n",
       "      <td>37.54</td>\n",
       "      <td>1005</td>\n",
       "      <td>13703</td>\n",
       "    </tr>\n",
       "    <tr>\n",
       "      <th>1</th>\n",
       "      <td>Total</td>\n",
       "      <td>Population: 12 years or older</td>\n",
       "      <td>Total</td>\n",
       "      <td>Value</td>\n",
       "      <td>The Netherlands</td>\n",
       "      <td>2019</td>\n",
       "      <td>2.68</td>\n",
       "      <td>37.41</td>\n",
       "      <td>978</td>\n",
       "      <td>13654</td>\n",
       "    </tr>\n",
       "    <tr>\n",
       "      <th>2</th>\n",
       "      <td>Total</td>\n",
       "      <td>Population: 12 years or older</td>\n",
       "      <td>Total</td>\n",
       "      <td>Value</td>\n",
       "      <td>The Netherlands</td>\n",
       "      <td>2020</td>\n",
       "      <td>2.34</td>\n",
       "      <td>25.71</td>\n",
       "      <td>855</td>\n",
       "      <td>9411</td>\n",
       "    </tr>\n",
       "    <tr>\n",
       "      <th>3</th>\n",
       "      <td>Total</td>\n",
       "      <td>Population: 12 years or older</td>\n",
       "      <td>Total</td>\n",
       "      <td>Value</td>\n",
       "      <td>The Netherlands</td>\n",
       "      <td>2021</td>\n",
       "      <td>2.48</td>\n",
       "      <td>28.13</td>\n",
       "      <td>907</td>\n",
       "      <td>10266</td>\n",
       "    </tr>\n",
       "    <tr>\n",
       "      <th>4</th>\n",
       "      <td>Total</td>\n",
       "      <td>Population: 12 years or older</td>\n",
       "      <td>Total</td>\n",
       "      <td>Value</td>\n",
       "      <td>Extremely urbanised</td>\n",
       "      <td>2018</td>\n",
       "      <td>2.70</td>\n",
       "      <td>33.94</td>\n",
       "      <td>984</td>\n",
       "      <td>12387</td>\n",
       "    </tr>\n",
       "    <tr>\n",
       "      <th>...</th>\n",
       "      <td>...</td>\n",
       "      <td>...</td>\n",
       "      <td>...</td>\n",
       "      <td>...</td>\n",
       "      <td>...</td>\n",
       "      <td>...</td>\n",
       "      <td>...</td>\n",
       "      <td>...</td>\n",
       "      <td>...</td>\n",
       "      <td>...</td>\n",
       "    </tr>\n",
       "    <tr>\n",
       "      <th>1003</th>\n",
       "      <td>Attending education/courses</td>\n",
       "      <td>Population: 12 years or older</td>\n",
       "      <td>Walking</td>\n",
       "      <td>Value</td>\n",
       "      <td>Hardly urbanised</td>\n",
       "      <td>2021</td>\n",
       "      <td>.</td>\n",
       "      <td>.</td>\n",
       "      <td>.</td>\n",
       "      <td>.</td>\n",
       "    </tr>\n",
       "    <tr>\n",
       "      <th>1004</th>\n",
       "      <td>Attending education/courses</td>\n",
       "      <td>Population: 12 years or older</td>\n",
       "      <td>Walking</td>\n",
       "      <td>Value</td>\n",
       "      <td>Not urbanised</td>\n",
       "      <td>2018</td>\n",
       "      <td>.</td>\n",
       "      <td>.</td>\n",
       "      <td>.</td>\n",
       "      <td>.</td>\n",
       "    </tr>\n",
       "    <tr>\n",
       "      <th>1005</th>\n",
       "      <td>Attending education/courses</td>\n",
       "      <td>Population: 12 years or older</td>\n",
       "      <td>Walking</td>\n",
       "      <td>Value</td>\n",
       "      <td>Not urbanised</td>\n",
       "      <td>2019</td>\n",
       "      <td>.</td>\n",
       "      <td>.</td>\n",
       "      <td>.</td>\n",
       "      <td>.</td>\n",
       "    </tr>\n",
       "    <tr>\n",
       "      <th>1006</th>\n",
       "      <td>Attending education/courses</td>\n",
       "      <td>Population: 12 years or older</td>\n",
       "      <td>Walking</td>\n",
       "      <td>Value</td>\n",
       "      <td>Not urbanised</td>\n",
       "      <td>2020</td>\n",
       "      <td>.</td>\n",
       "      <td>.</td>\n",
       "      <td>.</td>\n",
       "      <td>.</td>\n",
       "    </tr>\n",
       "    <tr>\n",
       "      <th>1007</th>\n",
       "      <td>Attending education/courses</td>\n",
       "      <td>Population: 12 years or older</td>\n",
       "      <td>Walking</td>\n",
       "      <td>Value</td>\n",
       "      <td>Not urbanised</td>\n",
       "      <td>2021</td>\n",
       "      <td>.</td>\n",
       "      <td>.</td>\n",
       "      <td>.</td>\n",
       "      <td>.</td>\n",
       "    </tr>\n",
       "  </tbody>\n",
       "</table>\n",
       "<p>1008 rows × 10 columns</p>\n",
       "</div>"
      ],
      "text/plain": [
       "              ï»¿\"Travel motives\"                     Population Travel modes  \\\n",
       "0                           Total  Population: 12 years or older        Total   \n",
       "1                           Total  Population: 12 years or older        Total   \n",
       "2                           Total  Population: 12 years or older        Total   \n",
       "3                           Total  Population: 12 years or older        Total   \n",
       "4                           Total  Population: 12 years or older        Total   \n",
       "...                           ...                            ...          ...   \n",
       "1003  Attending education/courses  Population: 12 years or older      Walking   \n",
       "1004  Attending education/courses  Population: 12 years or older      Walking   \n",
       "1005  Attending education/courses  Population: 12 years or older      Walking   \n",
       "1006  Attending education/courses  Population: 12 years or older      Walking   \n",
       "1007  Attending education/courses  Population: 12 years or older      Walking   \n",
       "\n",
       "     Margins Region characteristics  Periods  \\\n",
       "0      Value        The Netherlands     2018   \n",
       "1      Value        The Netherlands     2019   \n",
       "2      Value        The Netherlands     2020   \n",
       "3      Value        The Netherlands     2021   \n",
       "4      Value    Extremely urbanised     2018   \n",
       "...      ...                    ...      ...   \n",
       "1003   Value       Hardly urbanised     2021   \n",
       "1004   Value          Not urbanised     2018   \n",
       "1005   Value          Not urbanised     2019   \n",
       "1006   Value          Not urbanised     2020   \n",
       "1007   Value          Not urbanised     2021   \n",
       "\n",
       "     Average per person per day/Trips (number)  \\\n",
       "0                                         2.75   \n",
       "1                                         2.68   \n",
       "2                                         2.34   \n",
       "3                                         2.48   \n",
       "4                                         2.70   \n",
       "...                                        ...   \n",
       "1003                                         .   \n",
       "1004                                         .   \n",
       "1005                                         .   \n",
       "1006                                         .   \n",
       "1007                                         .   \n",
       "\n",
       "     Average per person per day/Distance travelled                       (passenger kilometres )  \\\n",
       "0                                                 37.54                                            \n",
       "1                                                 37.41                                            \n",
       "2                                                 25.71                                            \n",
       "3                                                 28.13                                            \n",
       "4                                                 33.94                                            \n",
       "...                                                 ...                                            \n",
       "1003                                                  .                                            \n",
       "1004                                                  .                                            \n",
       "1005                                                  .                                            \n",
       "1006                                                  .                                            \n",
       "1007                                                  .                                            \n",
       "\n",
       "     Average per person per year/Trips (number)  \\\n",
       "0                                          1005   \n",
       "1                                           978   \n",
       "2                                           855   \n",
       "3                                           907   \n",
       "4                                           984   \n",
       "...                                         ...   \n",
       "1003                                          .   \n",
       "1004                                          .   \n",
       "1005                                          .   \n",
       "1006                                          .   \n",
       "1007                                          .   \n",
       "\n",
       "     Average per person per year/Distance travelled    (passenger kilometres )  \n",
       "0                                                 13703                         \n",
       "1                                                 13654                         \n",
       "2                                                  9411                         \n",
       "3                                                 10266                         \n",
       "4                                                 12387                         \n",
       "...                                                 ...                         \n",
       "1003                                                  .                         \n",
       "1004                                                  .                         \n",
       "1005                                                  .                         \n",
       "1006                                                  .                         \n",
       "1007                                                  .                         \n",
       "\n",
       "[1008 rows x 10 columns]"
      ]
     },
     "execution_count": 2,
     "metadata": {},
     "output_type": "execute_result"
    }
   ],
   "source": [
    "file_path = 'C:\\\\Users\\\\jplasmei\\\\TIL6022-LabAssignments\\\\per_person__travel_modes__travel_purpose_12102022_112349.csv'\n",
    "df = pd.read_csv(file_path, delimiter=';', encoding='Windows-1252') \n",
    "df"
   ]
  },
  {
   "cell_type": "code",
   "execution_count": 3,
   "metadata": {},
   "outputs": [
    {
     "data": {
      "text/plain": [
       "{'encoding': 'UTF-8-SIG', 'confidence': 1.0, 'language': ''}"
      ]
     },
     "execution_count": 3,
     "metadata": {},
     "output_type": "execute_result"
    }
   ],
   "source": [
    "import chardet\n",
    "with open(file_path, 'rb') as rawdata:\n",
    "    result = chardet.detect(rawdata.read(100000))\n",
    "result"
   ]
  },
  {
   "cell_type": "code",
   "execution_count": 4,
   "metadata": {},
   "outputs": [
    {
     "data": {
      "text/html": [
       "<div>\n",
       "<style scoped>\n",
       "    .dataframe tbody tr th:only-of-type {\n",
       "        vertical-align: middle;\n",
       "    }\n",
       "\n",
       "    .dataframe tbody tr th {\n",
       "        vertical-align: top;\n",
       "    }\n",
       "\n",
       "    .dataframe thead th {\n",
       "        text-align: right;\n",
       "    }\n",
       "</style>\n",
       "<table border=\"1\" class=\"dataframe\">\n",
       "  <thead>\n",
       "    <tr style=\"text-align: right;\">\n",
       "      <th></th>\n",
       "      <th>ï»¿\"Travel motives\"</th>\n",
       "      <th>Population</th>\n",
       "      <th>Travel modes</th>\n",
       "      <th>Margins</th>\n",
       "      <th>Region characteristics</th>\n",
       "      <th>Periods</th>\n",
       "      <th>Average per person per day/Trips (number)</th>\n",
       "      <th>Average per person per day/Distance travelled                       (passenger kilometres )</th>\n",
       "      <th>Average per person per year/Trips (number)</th>\n",
       "      <th>Average per person per year/Distance travelled    (passenger kilometres )</th>\n",
       "    </tr>\n",
       "  </thead>\n",
       "  <tbody>\n",
       "    <tr>\n",
       "      <th>163</th>\n",
       "      <td>Total</td>\n",
       "      <td>Population: 12 years or older</td>\n",
       "      <td>Walking</td>\n",
       "      <td>Value</td>\n",
       "      <td>Hardly urbanised</td>\n",
       "      <td>2021</td>\n",
       "      <td>0.53</td>\n",
       "      <td>1.33</td>\n",
       "      <td>194</td>\n",
       "      <td>487</td>\n",
       "    </tr>\n",
       "    <tr>\n",
       "      <th>164</th>\n",
       "      <td>Total</td>\n",
       "      <td>Population: 12 years or older</td>\n",
       "      <td>Walking</td>\n",
       "      <td>Value</td>\n",
       "      <td>Not urbanised</td>\n",
       "      <td>2018</td>\n",
       "      <td>0.31</td>\n",
       "      <td>0.68</td>\n",
       "      <td>112</td>\n",
       "      <td>249</td>\n",
       "    </tr>\n",
       "    <tr>\n",
       "      <th>165</th>\n",
       "      <td>Total</td>\n",
       "      <td>Population: 12 years or older</td>\n",
       "      <td>Walking</td>\n",
       "      <td>Value</td>\n",
       "      <td>Not urbanised</td>\n",
       "      <td>2019</td>\n",
       "      <td>0.30</td>\n",
       "      <td>0.72</td>\n",
       "      <td>110</td>\n",
       "      <td>262</td>\n",
       "    </tr>\n",
       "    <tr>\n",
       "      <th>166</th>\n",
       "      <td>Total</td>\n",
       "      <td>Population: 12 years or older</td>\n",
       "      <td>Walking</td>\n",
       "      <td>Value</td>\n",
       "      <td>Not urbanised</td>\n",
       "      <td>2020</td>\n",
       "      <td>0.42</td>\n",
       "      <td>1.10</td>\n",
       "      <td>153</td>\n",
       "      <td>402</td>\n",
       "    </tr>\n",
       "    <tr>\n",
       "      <th>167</th>\n",
       "      <td>Total</td>\n",
       "      <td>Population: 12 years or older</td>\n",
       "      <td>Walking</td>\n",
       "      <td>Value</td>\n",
       "      <td>Not urbanised</td>\n",
       "      <td>2021</td>\n",
       "      <td>0.49</td>\n",
       "      <td>1.28</td>\n",
       "      <td>180</td>\n",
       "      <td>466</td>\n",
       "    </tr>\n",
       "  </tbody>\n",
       "</table>\n",
       "</div>"
      ],
      "text/plain": [
       "    ï»¿\"Travel motives\"                     Population Travel modes Margins  \\\n",
       "163               Total  Population: 12 years or older      Walking   Value   \n",
       "164               Total  Population: 12 years or older      Walking   Value   \n",
       "165               Total  Population: 12 years or older      Walking   Value   \n",
       "166               Total  Population: 12 years or older      Walking   Value   \n",
       "167               Total  Population: 12 years or older      Walking   Value   \n",
       "\n",
       "    Region characteristics  Periods Average per person per day/Trips (number)  \\\n",
       "163       Hardly urbanised     2021                                      0.53   \n",
       "164          Not urbanised     2018                                      0.31   \n",
       "165          Not urbanised     2019                                      0.30   \n",
       "166          Not urbanised     2020                                      0.42   \n",
       "167          Not urbanised     2021                                      0.49   \n",
       "\n",
       "    Average per person per day/Distance travelled                       (passenger kilometres )  \\\n",
       "163                                               1.33                                            \n",
       "164                                               0.68                                            \n",
       "165                                               0.72                                            \n",
       "166                                               1.10                                            \n",
       "167                                               1.28                                            \n",
       "\n",
       "    Average per person per year/Trips (number)  \\\n",
       "163                                        194   \n",
       "164                                        112   \n",
       "165                                        110   \n",
       "166                                        153   \n",
       "167                                        180   \n",
       "\n",
       "    Average per person per year/Distance travelled    (passenger kilometres )  \n",
       "163                                                487                         \n",
       "164                                                249                         \n",
       "165                                                262                         \n",
       "166                                                402                         \n",
       "167                                                466                         "
      ]
     },
     "execution_count": 4,
     "metadata": {},
     "output_type": "execute_result"
    }
   ],
   "source": [
    "# Only get travel motives total\n",
    "\n",
    "df_all_motives = df[df['ï»¿\"Travel motives\"'] == 'Total']\n",
    "df_all_motives.tail()"
   ]
  },
  {
   "cell_type": "code",
   "execution_count": 25,
   "metadata": {},
   "outputs": [
    {
     "data": {
      "application/vnd.plotly.v1+json": {
       "config": {
        "plotlyServerURL": "https://plot.ly"
       },
       "data": [
        {
         "alignmentgroup": "True",
         "hovertemplate": "Travel modes=Total<br>Region characteristics=%{x}<br>Average per person per day/Trips (number)=%{y}<extra></extra>",
         "legendgroup": "Total",
         "marker": {
          "color": "#636efa",
          "pattern": {
           "shape": ""
          }
         },
         "name": "Total",
         "offsetgroup": "Total",
         "orientation": "v",
         "showlegend": true,
         "textposition": "outside",
         "type": "bar",
         "x": [
          "The Netherlands",
          "Extremely urbanised",
          "Strongly urbanised",
          "Moderately urbanised",
          "Hardly urbanised",
          "Not urbanised"
         ],
         "xaxis": "x",
         "y": [
          "    2.68",
          "    2.58",
          "    2.71",
          "    2.77",
          "    2.71",
          "    2.60"
         ],
         "yaxis": "y"
        },
        {
         "alignmentgroup": "True",
         "hovertemplate": "Travel modes=Passenger car (driver)<br>Region characteristics=%{x}<br>Average per person per day/Trips (number)=%{y}<extra></extra>",
         "legendgroup": "Passenger car (driver)",
         "marker": {
          "color": "#EF553B",
          "pattern": {
           "shape": ""
          }
         },
         "name": "Passenger car (driver)",
         "offsetgroup": "Passenger car (driver)",
         "orientation": "v",
         "showlegend": true,
         "textposition": "outside",
         "type": "bar",
         "x": [
          "The Netherlands",
          "Extremely urbanised",
          "Strongly urbanised",
          "Moderately urbanised",
          "Hardly urbanised",
          "Not urbanised"
         ],
         "xaxis": "x",
         "y": [
          "    1.02",
          "    0.68",
          "    1.03",
          "    1.14",
          "    1.22",
          "    1.26"
         ],
         "yaxis": "y"
        },
        {
         "alignmentgroup": "True",
         "hovertemplate": "Travel modes=Passenger car (passenger)<br>Region characteristics=%{x}<br>Average per person per day/Trips (number)=%{y}<extra></extra>",
         "legendgroup": "Passenger car (passenger)",
         "marker": {
          "color": "#00cc96",
          "pattern": {
           "shape": ""
          }
         },
         "name": "Passenger car (passenger)",
         "offsetgroup": "Passenger car (passenger)",
         "orientation": "v",
         "showlegend": true,
         "textposition": "outside",
         "type": "bar",
         "x": [
          "The Netherlands",
          "Extremely urbanised",
          "Strongly urbanised",
          "Moderately urbanised",
          "Hardly urbanised",
          "Not urbanised"
         ],
         "xaxis": "x",
         "y": [
          "    0.26",
          "    0.19",
          "    0.28",
          "    0.26",
          "    0.30",
          "    0.29"
         ],
         "yaxis": "y"
        },
        {
         "alignmentgroup": "True",
         "hovertemplate": "Travel modes=Train<br>Region characteristics=%{x}<br>Average per person per day/Trips (number)=%{y}<extra></extra>",
         "legendgroup": "Train",
         "marker": {
          "color": "#ab63fa",
          "pattern": {
           "shape": ""
          }
         },
         "name": "Train",
         "offsetgroup": "Train",
         "orientation": "v",
         "showlegend": true,
         "textposition": "outside",
         "type": "bar",
         "x": [
          "The Netherlands",
          "Extremely urbanised",
          "Strongly urbanised",
          "Moderately urbanised",
          "Hardly urbanised",
          "Not urbanised"
         ],
         "xaxis": "x",
         "y": [
          "    0.09",
          "    0.14",
          "    0.09",
          "    0.07",
          "    0.05",
          "    0.05"
         ],
         "yaxis": "y"
        },
        {
         "alignmentgroup": "True",
         "hovertemplate": "Travel modes=Bus/metro<br>Region characteristics=%{x}<br>Average per person per day/Trips (number)=%{y}<extra></extra>",
         "legendgroup": "Bus/metro",
         "marker": {
          "color": "#FFA15A",
          "pattern": {
           "shape": ""
          }
         },
         "name": "Bus/metro",
         "offsetgroup": "Bus/metro",
         "orientation": "v",
         "showlegend": true,
         "textposition": "outside",
         "type": "bar",
         "x": [
          "The Netherlands",
          "Extremely urbanised",
          "Strongly urbanised",
          "Moderately urbanised",
          "Hardly urbanised",
          "Not urbanised"
         ],
         "xaxis": "x",
         "y": [
          "    0.08",
          "    0.17",
          "    0.06",
          "    0.04",
          "    0.03",
          "    0.03"
         ],
         "yaxis": "y"
        },
        {
         "alignmentgroup": "True",
         "hovertemplate": "Travel modes=Bike<br>Region characteristics=%{x}<br>Average per person per day/Trips (number)=%{y}<extra></extra>",
         "legendgroup": "Bike",
         "marker": {
          "color": "#19d3f3",
          "pattern": {
           "shape": ""
          }
         },
         "name": "Bike",
         "offsetgroup": "Bike",
         "orientation": "v",
         "showlegend": true,
         "textposition": "outside",
         "type": "bar",
         "x": [
          "The Netherlands",
          "Extremely urbanised",
          "Strongly urbanised",
          "Moderately urbanised",
          "Hardly urbanised",
          "Not urbanised"
         ],
         "xaxis": "x",
         "y": [
          "    0.72",
          "    0.81",
          "    0.74",
          "    0.75",
          "    0.66",
          "    0.53"
         ],
         "yaxis": "y"
        },
        {
         "alignmentgroup": "True",
         "hovertemplate": "Travel modes=Walking<br>Region characteristics=%{x}<br>Average per person per day/Trips (number)=%{y}<extra></extra>",
         "legendgroup": "Walking",
         "marker": {
          "color": "#FF6692",
          "pattern": {
           "shape": ""
          }
         },
         "name": "Walking",
         "offsetgroup": "Walking",
         "orientation": "v",
         "showlegend": true,
         "textposition": "outside",
         "type": "bar",
         "x": [
          "The Netherlands",
          "Extremely urbanised",
          "Strongly urbanised",
          "Moderately urbanised",
          "Hardly urbanised",
          "Not urbanised"
         ],
         "xaxis": "x",
         "y": [
          "    0.40",
          "    0.50",
          "    0.40",
          "    0.38",
          "    0.34",
          "    0.30"
         ],
         "yaxis": "y"
        }
       ],
       "layout": {
        "barmode": "relative",
        "legend": {
         "title": {
          "text": "Travel modes"
         },
         "tracegroupgap": 0
        },
        "template": {
         "data": {
          "bar": [
           {
            "error_x": {
             "color": "#2a3f5f"
            },
            "error_y": {
             "color": "#2a3f5f"
            },
            "marker": {
             "line": {
              "color": "#E5ECF6",
              "width": 0.5
             },
             "pattern": {
              "fillmode": "overlay",
              "size": 10,
              "solidity": 0.2
             }
            },
            "type": "bar"
           }
          ],
          "barpolar": [
           {
            "marker": {
             "line": {
              "color": "#E5ECF6",
              "width": 0.5
             },
             "pattern": {
              "fillmode": "overlay",
              "size": 10,
              "solidity": 0.2
             }
            },
            "type": "barpolar"
           }
          ],
          "carpet": [
           {
            "aaxis": {
             "endlinecolor": "#2a3f5f",
             "gridcolor": "white",
             "linecolor": "white",
             "minorgridcolor": "white",
             "startlinecolor": "#2a3f5f"
            },
            "baxis": {
             "endlinecolor": "#2a3f5f",
             "gridcolor": "white",
             "linecolor": "white",
             "minorgridcolor": "white",
             "startlinecolor": "#2a3f5f"
            },
            "type": "carpet"
           }
          ],
          "choropleth": [
           {
            "colorbar": {
             "outlinewidth": 0,
             "ticks": ""
            },
            "type": "choropleth"
           }
          ],
          "contour": [
           {
            "colorbar": {
             "outlinewidth": 0,
             "ticks": ""
            },
            "colorscale": [
             [
              0,
              "#0d0887"
             ],
             [
              0.1111111111111111,
              "#46039f"
             ],
             [
              0.2222222222222222,
              "#7201a8"
             ],
             [
              0.3333333333333333,
              "#9c179e"
             ],
             [
              0.4444444444444444,
              "#bd3786"
             ],
             [
              0.5555555555555556,
              "#d8576b"
             ],
             [
              0.6666666666666666,
              "#ed7953"
             ],
             [
              0.7777777777777778,
              "#fb9f3a"
             ],
             [
              0.8888888888888888,
              "#fdca26"
             ],
             [
              1,
              "#f0f921"
             ]
            ],
            "type": "contour"
           }
          ],
          "contourcarpet": [
           {
            "colorbar": {
             "outlinewidth": 0,
             "ticks": ""
            },
            "type": "contourcarpet"
           }
          ],
          "heatmap": [
           {
            "colorbar": {
             "outlinewidth": 0,
             "ticks": ""
            },
            "colorscale": [
             [
              0,
              "#0d0887"
             ],
             [
              0.1111111111111111,
              "#46039f"
             ],
             [
              0.2222222222222222,
              "#7201a8"
             ],
             [
              0.3333333333333333,
              "#9c179e"
             ],
             [
              0.4444444444444444,
              "#bd3786"
             ],
             [
              0.5555555555555556,
              "#d8576b"
             ],
             [
              0.6666666666666666,
              "#ed7953"
             ],
             [
              0.7777777777777778,
              "#fb9f3a"
             ],
             [
              0.8888888888888888,
              "#fdca26"
             ],
             [
              1,
              "#f0f921"
             ]
            ],
            "type": "heatmap"
           }
          ],
          "heatmapgl": [
           {
            "colorbar": {
             "outlinewidth": 0,
             "ticks": ""
            },
            "colorscale": [
             [
              0,
              "#0d0887"
             ],
             [
              0.1111111111111111,
              "#46039f"
             ],
             [
              0.2222222222222222,
              "#7201a8"
             ],
             [
              0.3333333333333333,
              "#9c179e"
             ],
             [
              0.4444444444444444,
              "#bd3786"
             ],
             [
              0.5555555555555556,
              "#d8576b"
             ],
             [
              0.6666666666666666,
              "#ed7953"
             ],
             [
              0.7777777777777778,
              "#fb9f3a"
             ],
             [
              0.8888888888888888,
              "#fdca26"
             ],
             [
              1,
              "#f0f921"
             ]
            ],
            "type": "heatmapgl"
           }
          ],
          "histogram": [
           {
            "marker": {
             "pattern": {
              "fillmode": "overlay",
              "size": 10,
              "solidity": 0.2
             }
            },
            "type": "histogram"
           }
          ],
          "histogram2d": [
           {
            "colorbar": {
             "outlinewidth": 0,
             "ticks": ""
            },
            "colorscale": [
             [
              0,
              "#0d0887"
             ],
             [
              0.1111111111111111,
              "#46039f"
             ],
             [
              0.2222222222222222,
              "#7201a8"
             ],
             [
              0.3333333333333333,
              "#9c179e"
             ],
             [
              0.4444444444444444,
              "#bd3786"
             ],
             [
              0.5555555555555556,
              "#d8576b"
             ],
             [
              0.6666666666666666,
              "#ed7953"
             ],
             [
              0.7777777777777778,
              "#fb9f3a"
             ],
             [
              0.8888888888888888,
              "#fdca26"
             ],
             [
              1,
              "#f0f921"
             ]
            ],
            "type": "histogram2d"
           }
          ],
          "histogram2dcontour": [
           {
            "colorbar": {
             "outlinewidth": 0,
             "ticks": ""
            },
            "colorscale": [
             [
              0,
              "#0d0887"
             ],
             [
              0.1111111111111111,
              "#46039f"
             ],
             [
              0.2222222222222222,
              "#7201a8"
             ],
             [
              0.3333333333333333,
              "#9c179e"
             ],
             [
              0.4444444444444444,
              "#bd3786"
             ],
             [
              0.5555555555555556,
              "#d8576b"
             ],
             [
              0.6666666666666666,
              "#ed7953"
             ],
             [
              0.7777777777777778,
              "#fb9f3a"
             ],
             [
              0.8888888888888888,
              "#fdca26"
             ],
             [
              1,
              "#f0f921"
             ]
            ],
            "type": "histogram2dcontour"
           }
          ],
          "mesh3d": [
           {
            "colorbar": {
             "outlinewidth": 0,
             "ticks": ""
            },
            "type": "mesh3d"
           }
          ],
          "parcoords": [
           {
            "line": {
             "colorbar": {
              "outlinewidth": 0,
              "ticks": ""
             }
            },
            "type": "parcoords"
           }
          ],
          "pie": [
           {
            "automargin": true,
            "type": "pie"
           }
          ],
          "scatter": [
           {
            "fillpattern": {
             "fillmode": "overlay",
             "size": 10,
             "solidity": 0.2
            },
            "type": "scatter"
           }
          ],
          "scatter3d": [
           {
            "line": {
             "colorbar": {
              "outlinewidth": 0,
              "ticks": ""
             }
            },
            "marker": {
             "colorbar": {
              "outlinewidth": 0,
              "ticks": ""
             }
            },
            "type": "scatter3d"
           }
          ],
          "scattercarpet": [
           {
            "marker": {
             "colorbar": {
              "outlinewidth": 0,
              "ticks": ""
             }
            },
            "type": "scattercarpet"
           }
          ],
          "scattergeo": [
           {
            "marker": {
             "colorbar": {
              "outlinewidth": 0,
              "ticks": ""
             }
            },
            "type": "scattergeo"
           }
          ],
          "scattergl": [
           {
            "marker": {
             "colorbar": {
              "outlinewidth": 0,
              "ticks": ""
             }
            },
            "type": "scattergl"
           }
          ],
          "scattermapbox": [
           {
            "marker": {
             "colorbar": {
              "outlinewidth": 0,
              "ticks": ""
             }
            },
            "type": "scattermapbox"
           }
          ],
          "scatterpolar": [
           {
            "marker": {
             "colorbar": {
              "outlinewidth": 0,
              "ticks": ""
             }
            },
            "type": "scatterpolar"
           }
          ],
          "scatterpolargl": [
           {
            "marker": {
             "colorbar": {
              "outlinewidth": 0,
              "ticks": ""
             }
            },
            "type": "scatterpolargl"
           }
          ],
          "scatterternary": [
           {
            "marker": {
             "colorbar": {
              "outlinewidth": 0,
              "ticks": ""
             }
            },
            "type": "scatterternary"
           }
          ],
          "surface": [
           {
            "colorbar": {
             "outlinewidth": 0,
             "ticks": ""
            },
            "colorscale": [
             [
              0,
              "#0d0887"
             ],
             [
              0.1111111111111111,
              "#46039f"
             ],
             [
              0.2222222222222222,
              "#7201a8"
             ],
             [
              0.3333333333333333,
              "#9c179e"
             ],
             [
              0.4444444444444444,
              "#bd3786"
             ],
             [
              0.5555555555555556,
              "#d8576b"
             ],
             [
              0.6666666666666666,
              "#ed7953"
             ],
             [
              0.7777777777777778,
              "#fb9f3a"
             ],
             [
              0.8888888888888888,
              "#fdca26"
             ],
             [
              1,
              "#f0f921"
             ]
            ],
            "type": "surface"
           }
          ],
          "table": [
           {
            "cells": {
             "fill": {
              "color": "#EBF0F8"
             },
             "line": {
              "color": "white"
             }
            },
            "header": {
             "fill": {
              "color": "#C8D4E3"
             },
             "line": {
              "color": "white"
             }
            },
            "type": "table"
           }
          ]
         },
         "layout": {
          "annotationdefaults": {
           "arrowcolor": "#2a3f5f",
           "arrowhead": 0,
           "arrowwidth": 1
          },
          "autotypenumbers": "strict",
          "coloraxis": {
           "colorbar": {
            "outlinewidth": 0,
            "ticks": ""
           }
          },
          "colorscale": {
           "diverging": [
            [
             0,
             "#8e0152"
            ],
            [
             0.1,
             "#c51b7d"
            ],
            [
             0.2,
             "#de77ae"
            ],
            [
             0.3,
             "#f1b6da"
            ],
            [
             0.4,
             "#fde0ef"
            ],
            [
             0.5,
             "#f7f7f7"
            ],
            [
             0.6,
             "#e6f5d0"
            ],
            [
             0.7,
             "#b8e186"
            ],
            [
             0.8,
             "#7fbc41"
            ],
            [
             0.9,
             "#4d9221"
            ],
            [
             1,
             "#276419"
            ]
           ],
           "sequential": [
            [
             0,
             "#0d0887"
            ],
            [
             0.1111111111111111,
             "#46039f"
            ],
            [
             0.2222222222222222,
             "#7201a8"
            ],
            [
             0.3333333333333333,
             "#9c179e"
            ],
            [
             0.4444444444444444,
             "#bd3786"
            ],
            [
             0.5555555555555556,
             "#d8576b"
            ],
            [
             0.6666666666666666,
             "#ed7953"
            ],
            [
             0.7777777777777778,
             "#fb9f3a"
            ],
            [
             0.8888888888888888,
             "#fdca26"
            ],
            [
             1,
             "#f0f921"
            ]
           ],
           "sequentialminus": [
            [
             0,
             "#0d0887"
            ],
            [
             0.1111111111111111,
             "#46039f"
            ],
            [
             0.2222222222222222,
             "#7201a8"
            ],
            [
             0.3333333333333333,
             "#9c179e"
            ],
            [
             0.4444444444444444,
             "#bd3786"
            ],
            [
             0.5555555555555556,
             "#d8576b"
            ],
            [
             0.6666666666666666,
             "#ed7953"
            ],
            [
             0.7777777777777778,
             "#fb9f3a"
            ],
            [
             0.8888888888888888,
             "#fdca26"
            ],
            [
             1,
             "#f0f921"
            ]
           ]
          },
          "colorway": [
           "#636efa",
           "#EF553B",
           "#00cc96",
           "#ab63fa",
           "#FFA15A",
           "#19d3f3",
           "#FF6692",
           "#B6E880",
           "#FF97FF",
           "#FECB52"
          ],
          "font": {
           "color": "#2a3f5f"
          },
          "geo": {
           "bgcolor": "white",
           "lakecolor": "white",
           "landcolor": "#E5ECF6",
           "showlakes": true,
           "showland": true,
           "subunitcolor": "white"
          },
          "hoverlabel": {
           "align": "left"
          },
          "hovermode": "closest",
          "mapbox": {
           "style": "light"
          },
          "paper_bgcolor": "white",
          "plot_bgcolor": "#E5ECF6",
          "polar": {
           "angularaxis": {
            "gridcolor": "white",
            "linecolor": "white",
            "ticks": ""
           },
           "bgcolor": "#E5ECF6",
           "radialaxis": {
            "gridcolor": "white",
            "linecolor": "white",
            "ticks": ""
           }
          },
          "scene": {
           "xaxis": {
            "backgroundcolor": "#E5ECF6",
            "gridcolor": "white",
            "gridwidth": 2,
            "linecolor": "white",
            "showbackground": true,
            "ticks": "",
            "zerolinecolor": "white"
           },
           "yaxis": {
            "backgroundcolor": "#E5ECF6",
            "gridcolor": "white",
            "gridwidth": 2,
            "linecolor": "white",
            "showbackground": true,
            "ticks": "",
            "zerolinecolor": "white"
           },
           "zaxis": {
            "backgroundcolor": "#E5ECF6",
            "gridcolor": "white",
            "gridwidth": 2,
            "linecolor": "white",
            "showbackground": true,
            "ticks": "",
            "zerolinecolor": "white"
           }
          },
          "shapedefaults": {
           "line": {
            "color": "#2a3f5f"
           }
          },
          "ternary": {
           "aaxis": {
            "gridcolor": "white",
            "linecolor": "white",
            "ticks": ""
           },
           "baxis": {
            "gridcolor": "white",
            "linecolor": "white",
            "ticks": ""
           },
           "bgcolor": "#E5ECF6",
           "caxis": {
            "gridcolor": "white",
            "linecolor": "white",
            "ticks": ""
           }
          },
          "title": {
           "x": 0.05
          },
          "xaxis": {
           "automargin": true,
           "gridcolor": "white",
           "linecolor": "white",
           "ticks": "",
           "title": {
            "standoff": 15
           },
           "zerolinecolor": "white",
           "zerolinewidth": 2
          },
          "yaxis": {
           "automargin": true,
           "gridcolor": "white",
           "linecolor": "white",
           "ticks": "",
           "title": {
            "standoff": 15
           },
           "zerolinecolor": "white",
           "zerolinewidth": 2
          }
         }
        },
        "title": {
         "text": "Travel modes in different amount of urbanizations"
        },
        "xaxis": {
         "anchor": "y",
         "domain": [
          0,
          1
         ],
         "title": {
          "text": "Region characteristics"
         }
        },
        "yaxis": {
         "anchor": "x",
         "categoryorder": "total descending",
         "domain": [
          0,
          1
         ],
         "title": {
          "text": "Average per person per day/Trips (number)"
         }
        }
       }
      },
      "text/html": [
       "<div>                            <div id=\"8f5a152d-efbb-4c8b-929f-86404dee5564\" class=\"plotly-graph-div\" style=\"height:525px; width:100%;\"></div>            <script type=\"text/javascript\">                require([\"plotly\"], function(Plotly) {                    window.PLOTLYENV=window.PLOTLYENV || {};                                    if (document.getElementById(\"8f5a152d-efbb-4c8b-929f-86404dee5564\")) {                    Plotly.newPlot(                        \"8f5a152d-efbb-4c8b-929f-86404dee5564\",                        [{\"alignmentgroup\":\"True\",\"hovertemplate\":\"Travel modes=Total<br>Region characteristics=%{x}<br>Average per person per day/Trips (number)=%{y}<extra></extra>\",\"legendgroup\":\"Total\",\"marker\":{\"color\":\"#636efa\",\"pattern\":{\"shape\":\"\"}},\"name\":\"Total\",\"offsetgroup\":\"Total\",\"orientation\":\"v\",\"showlegend\":true,\"textposition\":\"outside\",\"x\":[\"The Netherlands\",\"Extremely urbanised\",\"Strongly urbanised\",\"Moderately urbanised\",\"Hardly urbanised\",\"Not urbanised\"],\"xaxis\":\"x\",\"y\":[\"    2.68\",\"    2.58\",\"    2.71\",\"    2.77\",\"    2.71\",\"    2.60\"],\"yaxis\":\"y\",\"type\":\"bar\"},{\"alignmentgroup\":\"True\",\"hovertemplate\":\"Travel modes=Passenger car (driver)<br>Region characteristics=%{x}<br>Average per person per day/Trips (number)=%{y}<extra></extra>\",\"legendgroup\":\"Passenger car (driver)\",\"marker\":{\"color\":\"#EF553B\",\"pattern\":{\"shape\":\"\"}},\"name\":\"Passenger car (driver)\",\"offsetgroup\":\"Passenger car (driver)\",\"orientation\":\"v\",\"showlegend\":true,\"textposition\":\"outside\",\"x\":[\"The Netherlands\",\"Extremely urbanised\",\"Strongly urbanised\",\"Moderately urbanised\",\"Hardly urbanised\",\"Not urbanised\"],\"xaxis\":\"x\",\"y\":[\"    1.02\",\"    0.68\",\"    1.03\",\"    1.14\",\"    1.22\",\"    1.26\"],\"yaxis\":\"y\",\"type\":\"bar\"},{\"alignmentgroup\":\"True\",\"hovertemplate\":\"Travel modes=Passenger car (passenger)<br>Region characteristics=%{x}<br>Average per person per day/Trips (number)=%{y}<extra></extra>\",\"legendgroup\":\"Passenger car (passenger)\",\"marker\":{\"color\":\"#00cc96\",\"pattern\":{\"shape\":\"\"}},\"name\":\"Passenger car (passenger)\",\"offsetgroup\":\"Passenger car (passenger)\",\"orientation\":\"v\",\"showlegend\":true,\"textposition\":\"outside\",\"x\":[\"The Netherlands\",\"Extremely urbanised\",\"Strongly urbanised\",\"Moderately urbanised\",\"Hardly urbanised\",\"Not urbanised\"],\"xaxis\":\"x\",\"y\":[\"    0.26\",\"    0.19\",\"    0.28\",\"    0.26\",\"    0.30\",\"    0.29\"],\"yaxis\":\"y\",\"type\":\"bar\"},{\"alignmentgroup\":\"True\",\"hovertemplate\":\"Travel modes=Train<br>Region characteristics=%{x}<br>Average per person per day/Trips (number)=%{y}<extra></extra>\",\"legendgroup\":\"Train\",\"marker\":{\"color\":\"#ab63fa\",\"pattern\":{\"shape\":\"\"}},\"name\":\"Train\",\"offsetgroup\":\"Train\",\"orientation\":\"v\",\"showlegend\":true,\"textposition\":\"outside\",\"x\":[\"The Netherlands\",\"Extremely urbanised\",\"Strongly urbanised\",\"Moderately urbanised\",\"Hardly urbanised\",\"Not urbanised\"],\"xaxis\":\"x\",\"y\":[\"    0.09\",\"    0.14\",\"    0.09\",\"    0.07\",\"    0.05\",\"    0.05\"],\"yaxis\":\"y\",\"type\":\"bar\"},{\"alignmentgroup\":\"True\",\"hovertemplate\":\"Travel modes=Bus/metro<br>Region characteristics=%{x}<br>Average per person per day/Trips (number)=%{y}<extra></extra>\",\"legendgroup\":\"Bus/metro\",\"marker\":{\"color\":\"#FFA15A\",\"pattern\":{\"shape\":\"\"}},\"name\":\"Bus/metro\",\"offsetgroup\":\"Bus/metro\",\"orientation\":\"v\",\"showlegend\":true,\"textposition\":\"outside\",\"x\":[\"The Netherlands\",\"Extremely urbanised\",\"Strongly urbanised\",\"Moderately urbanised\",\"Hardly urbanised\",\"Not urbanised\"],\"xaxis\":\"x\",\"y\":[\"    0.08\",\"    0.17\",\"    0.06\",\"    0.04\",\"    0.03\",\"    0.03\"],\"yaxis\":\"y\",\"type\":\"bar\"},{\"alignmentgroup\":\"True\",\"hovertemplate\":\"Travel modes=Bike<br>Region characteristics=%{x}<br>Average per person per day/Trips (number)=%{y}<extra></extra>\",\"legendgroup\":\"Bike\",\"marker\":{\"color\":\"#19d3f3\",\"pattern\":{\"shape\":\"\"}},\"name\":\"Bike\",\"offsetgroup\":\"Bike\",\"orientation\":\"v\",\"showlegend\":true,\"textposition\":\"outside\",\"x\":[\"The Netherlands\",\"Extremely urbanised\",\"Strongly urbanised\",\"Moderately urbanised\",\"Hardly urbanised\",\"Not urbanised\"],\"xaxis\":\"x\",\"y\":[\"    0.72\",\"    0.81\",\"    0.74\",\"    0.75\",\"    0.66\",\"    0.53\"],\"yaxis\":\"y\",\"type\":\"bar\"},{\"alignmentgroup\":\"True\",\"hovertemplate\":\"Travel modes=Walking<br>Region characteristics=%{x}<br>Average per person per day/Trips (number)=%{y}<extra></extra>\",\"legendgroup\":\"Walking\",\"marker\":{\"color\":\"#FF6692\",\"pattern\":{\"shape\":\"\"}},\"name\":\"Walking\",\"offsetgroup\":\"Walking\",\"orientation\":\"v\",\"showlegend\":true,\"textposition\":\"outside\",\"x\":[\"The Netherlands\",\"Extremely urbanised\",\"Strongly urbanised\",\"Moderately urbanised\",\"Hardly urbanised\",\"Not urbanised\"],\"xaxis\":\"x\",\"y\":[\"    0.40\",\"    0.50\",\"    0.40\",\"    0.38\",\"    0.34\",\"    0.30\"],\"yaxis\":\"y\",\"type\":\"bar\"}],                        {\"template\":{\"data\":{\"histogram2dcontour\":[{\"type\":\"histogram2dcontour\",\"colorbar\":{\"outlinewidth\":0,\"ticks\":\"\"},\"colorscale\":[[0.0,\"#0d0887\"],[0.1111111111111111,\"#46039f\"],[0.2222222222222222,\"#7201a8\"],[0.3333333333333333,\"#9c179e\"],[0.4444444444444444,\"#bd3786\"],[0.5555555555555556,\"#d8576b\"],[0.6666666666666666,\"#ed7953\"],[0.7777777777777778,\"#fb9f3a\"],[0.8888888888888888,\"#fdca26\"],[1.0,\"#f0f921\"]]}],\"choropleth\":[{\"type\":\"choropleth\",\"colorbar\":{\"outlinewidth\":0,\"ticks\":\"\"}}],\"histogram2d\":[{\"type\":\"histogram2d\",\"colorbar\":{\"outlinewidth\":0,\"ticks\":\"\"},\"colorscale\":[[0.0,\"#0d0887\"],[0.1111111111111111,\"#46039f\"],[0.2222222222222222,\"#7201a8\"],[0.3333333333333333,\"#9c179e\"],[0.4444444444444444,\"#bd3786\"],[0.5555555555555556,\"#d8576b\"],[0.6666666666666666,\"#ed7953\"],[0.7777777777777778,\"#fb9f3a\"],[0.8888888888888888,\"#fdca26\"],[1.0,\"#f0f921\"]]}],\"heatmap\":[{\"type\":\"heatmap\",\"colorbar\":{\"outlinewidth\":0,\"ticks\":\"\"},\"colorscale\":[[0.0,\"#0d0887\"],[0.1111111111111111,\"#46039f\"],[0.2222222222222222,\"#7201a8\"],[0.3333333333333333,\"#9c179e\"],[0.4444444444444444,\"#bd3786\"],[0.5555555555555556,\"#d8576b\"],[0.6666666666666666,\"#ed7953\"],[0.7777777777777778,\"#fb9f3a\"],[0.8888888888888888,\"#fdca26\"],[1.0,\"#f0f921\"]]}],\"heatmapgl\":[{\"type\":\"heatmapgl\",\"colorbar\":{\"outlinewidth\":0,\"ticks\":\"\"},\"colorscale\":[[0.0,\"#0d0887\"],[0.1111111111111111,\"#46039f\"],[0.2222222222222222,\"#7201a8\"],[0.3333333333333333,\"#9c179e\"],[0.4444444444444444,\"#bd3786\"],[0.5555555555555556,\"#d8576b\"],[0.6666666666666666,\"#ed7953\"],[0.7777777777777778,\"#fb9f3a\"],[0.8888888888888888,\"#fdca26\"],[1.0,\"#f0f921\"]]}],\"contourcarpet\":[{\"type\":\"contourcarpet\",\"colorbar\":{\"outlinewidth\":0,\"ticks\":\"\"}}],\"contour\":[{\"type\":\"contour\",\"colorbar\":{\"outlinewidth\":0,\"ticks\":\"\"},\"colorscale\":[[0.0,\"#0d0887\"],[0.1111111111111111,\"#46039f\"],[0.2222222222222222,\"#7201a8\"],[0.3333333333333333,\"#9c179e\"],[0.4444444444444444,\"#bd3786\"],[0.5555555555555556,\"#d8576b\"],[0.6666666666666666,\"#ed7953\"],[0.7777777777777778,\"#fb9f3a\"],[0.8888888888888888,\"#fdca26\"],[1.0,\"#f0f921\"]]}],\"surface\":[{\"type\":\"surface\",\"colorbar\":{\"outlinewidth\":0,\"ticks\":\"\"},\"colorscale\":[[0.0,\"#0d0887\"],[0.1111111111111111,\"#46039f\"],[0.2222222222222222,\"#7201a8\"],[0.3333333333333333,\"#9c179e\"],[0.4444444444444444,\"#bd3786\"],[0.5555555555555556,\"#d8576b\"],[0.6666666666666666,\"#ed7953\"],[0.7777777777777778,\"#fb9f3a\"],[0.8888888888888888,\"#fdca26\"],[1.0,\"#f0f921\"]]}],\"mesh3d\":[{\"type\":\"mesh3d\",\"colorbar\":{\"outlinewidth\":0,\"ticks\":\"\"}}],\"scatter\":[{\"fillpattern\":{\"fillmode\":\"overlay\",\"size\":10,\"solidity\":0.2},\"type\":\"scatter\"}],\"parcoords\":[{\"type\":\"parcoords\",\"line\":{\"colorbar\":{\"outlinewidth\":0,\"ticks\":\"\"}}}],\"scatterpolargl\":[{\"type\":\"scatterpolargl\",\"marker\":{\"colorbar\":{\"outlinewidth\":0,\"ticks\":\"\"}}}],\"bar\":[{\"error_x\":{\"color\":\"#2a3f5f\"},\"error_y\":{\"color\":\"#2a3f5f\"},\"marker\":{\"line\":{\"color\":\"#E5ECF6\",\"width\":0.5},\"pattern\":{\"fillmode\":\"overlay\",\"size\":10,\"solidity\":0.2}},\"type\":\"bar\"}],\"scattergeo\":[{\"type\":\"scattergeo\",\"marker\":{\"colorbar\":{\"outlinewidth\":0,\"ticks\":\"\"}}}],\"scatterpolar\":[{\"type\":\"scatterpolar\",\"marker\":{\"colorbar\":{\"outlinewidth\":0,\"ticks\":\"\"}}}],\"histogram\":[{\"marker\":{\"pattern\":{\"fillmode\":\"overlay\",\"size\":10,\"solidity\":0.2}},\"type\":\"histogram\"}],\"scattergl\":[{\"type\":\"scattergl\",\"marker\":{\"colorbar\":{\"outlinewidth\":0,\"ticks\":\"\"}}}],\"scatter3d\":[{\"type\":\"scatter3d\",\"line\":{\"colorbar\":{\"outlinewidth\":0,\"ticks\":\"\"}},\"marker\":{\"colorbar\":{\"outlinewidth\":0,\"ticks\":\"\"}}}],\"scattermapbox\":[{\"type\":\"scattermapbox\",\"marker\":{\"colorbar\":{\"outlinewidth\":0,\"ticks\":\"\"}}}],\"scatterternary\":[{\"type\":\"scatterternary\",\"marker\":{\"colorbar\":{\"outlinewidth\":0,\"ticks\":\"\"}}}],\"scattercarpet\":[{\"type\":\"scattercarpet\",\"marker\":{\"colorbar\":{\"outlinewidth\":0,\"ticks\":\"\"}}}],\"carpet\":[{\"aaxis\":{\"endlinecolor\":\"#2a3f5f\",\"gridcolor\":\"white\",\"linecolor\":\"white\",\"minorgridcolor\":\"white\",\"startlinecolor\":\"#2a3f5f\"},\"baxis\":{\"endlinecolor\":\"#2a3f5f\",\"gridcolor\":\"white\",\"linecolor\":\"white\",\"minorgridcolor\":\"white\",\"startlinecolor\":\"#2a3f5f\"},\"type\":\"carpet\"}],\"table\":[{\"cells\":{\"fill\":{\"color\":\"#EBF0F8\"},\"line\":{\"color\":\"white\"}},\"header\":{\"fill\":{\"color\":\"#C8D4E3\"},\"line\":{\"color\":\"white\"}},\"type\":\"table\"}],\"barpolar\":[{\"marker\":{\"line\":{\"color\":\"#E5ECF6\",\"width\":0.5},\"pattern\":{\"fillmode\":\"overlay\",\"size\":10,\"solidity\":0.2}},\"type\":\"barpolar\"}],\"pie\":[{\"automargin\":true,\"type\":\"pie\"}]},\"layout\":{\"autotypenumbers\":\"strict\",\"colorway\":[\"#636efa\",\"#EF553B\",\"#00cc96\",\"#ab63fa\",\"#FFA15A\",\"#19d3f3\",\"#FF6692\",\"#B6E880\",\"#FF97FF\",\"#FECB52\"],\"font\":{\"color\":\"#2a3f5f\"},\"hovermode\":\"closest\",\"hoverlabel\":{\"align\":\"left\"},\"paper_bgcolor\":\"white\",\"plot_bgcolor\":\"#E5ECF6\",\"polar\":{\"bgcolor\":\"#E5ECF6\",\"angularaxis\":{\"gridcolor\":\"white\",\"linecolor\":\"white\",\"ticks\":\"\"},\"radialaxis\":{\"gridcolor\":\"white\",\"linecolor\":\"white\",\"ticks\":\"\"}},\"ternary\":{\"bgcolor\":\"#E5ECF6\",\"aaxis\":{\"gridcolor\":\"white\",\"linecolor\":\"white\",\"ticks\":\"\"},\"baxis\":{\"gridcolor\":\"white\",\"linecolor\":\"white\",\"ticks\":\"\"},\"caxis\":{\"gridcolor\":\"white\",\"linecolor\":\"white\",\"ticks\":\"\"}},\"coloraxis\":{\"colorbar\":{\"outlinewidth\":0,\"ticks\":\"\"}},\"colorscale\":{\"sequential\":[[0.0,\"#0d0887\"],[0.1111111111111111,\"#46039f\"],[0.2222222222222222,\"#7201a8\"],[0.3333333333333333,\"#9c179e\"],[0.4444444444444444,\"#bd3786\"],[0.5555555555555556,\"#d8576b\"],[0.6666666666666666,\"#ed7953\"],[0.7777777777777778,\"#fb9f3a\"],[0.8888888888888888,\"#fdca26\"],[1.0,\"#f0f921\"]],\"sequentialminus\":[[0.0,\"#0d0887\"],[0.1111111111111111,\"#46039f\"],[0.2222222222222222,\"#7201a8\"],[0.3333333333333333,\"#9c179e\"],[0.4444444444444444,\"#bd3786\"],[0.5555555555555556,\"#d8576b\"],[0.6666666666666666,\"#ed7953\"],[0.7777777777777778,\"#fb9f3a\"],[0.8888888888888888,\"#fdca26\"],[1.0,\"#f0f921\"]],\"diverging\":[[0,\"#8e0152\"],[0.1,\"#c51b7d\"],[0.2,\"#de77ae\"],[0.3,\"#f1b6da\"],[0.4,\"#fde0ef\"],[0.5,\"#f7f7f7\"],[0.6,\"#e6f5d0\"],[0.7,\"#b8e186\"],[0.8,\"#7fbc41\"],[0.9,\"#4d9221\"],[1,\"#276419\"]]},\"xaxis\":{\"gridcolor\":\"white\",\"linecolor\":\"white\",\"ticks\":\"\",\"title\":{\"standoff\":15},\"zerolinecolor\":\"white\",\"automargin\":true,\"zerolinewidth\":2},\"yaxis\":{\"gridcolor\":\"white\",\"linecolor\":\"white\",\"ticks\":\"\",\"title\":{\"standoff\":15},\"zerolinecolor\":\"white\",\"automargin\":true,\"zerolinewidth\":2},\"scene\":{\"xaxis\":{\"backgroundcolor\":\"#E5ECF6\",\"gridcolor\":\"white\",\"linecolor\":\"white\",\"showbackground\":true,\"ticks\":\"\",\"zerolinecolor\":\"white\",\"gridwidth\":2},\"yaxis\":{\"backgroundcolor\":\"#E5ECF6\",\"gridcolor\":\"white\",\"linecolor\":\"white\",\"showbackground\":true,\"ticks\":\"\",\"zerolinecolor\":\"white\",\"gridwidth\":2},\"zaxis\":{\"backgroundcolor\":\"#E5ECF6\",\"gridcolor\":\"white\",\"linecolor\":\"white\",\"showbackground\":true,\"ticks\":\"\",\"zerolinecolor\":\"white\",\"gridwidth\":2}},\"shapedefaults\":{\"line\":{\"color\":\"#2a3f5f\"}},\"annotationdefaults\":{\"arrowcolor\":\"#2a3f5f\",\"arrowhead\":0,\"arrowwidth\":1},\"geo\":{\"bgcolor\":\"white\",\"landcolor\":\"#E5ECF6\",\"subunitcolor\":\"white\",\"showland\":true,\"showlakes\":true,\"lakecolor\":\"white\"},\"title\":{\"x\":0.05},\"mapbox\":{\"style\":\"light\"}}},\"xaxis\":{\"anchor\":\"y\",\"domain\":[0.0,1.0],\"title\":{\"text\":\"Region characteristics\"}},\"yaxis\":{\"anchor\":\"x\",\"domain\":[0.0,1.0],\"title\":{\"text\":\"Average per person per day/Trips (number)\"},\"categoryorder\":\"total descending\"},\"legend\":{\"title\":{\"text\":\"Travel modes\"},\"tracegroupgap\":0},\"title\":{\"text\":\"Travel modes in different amount of urbanizations\"},\"barmode\":\"relative\"},                        {\"responsive\": true}                    ).then(function(){\n",
       "                            \n",
       "var gd = document.getElementById('8f5a152d-efbb-4c8b-929f-86404dee5564');\n",
       "var x = new MutationObserver(function (mutations, observer) {{\n",
       "        var display = window.getComputedStyle(gd).display;\n",
       "        if (!display || display === 'none') {{\n",
       "            console.log([gd, 'removed!']);\n",
       "            Plotly.purge(gd);\n",
       "            observer.disconnect();\n",
       "        }}\n",
       "}});\n",
       "\n",
       "// Listen for the removal of the full notebook cells\n",
       "var notebookContainer = gd.closest('#notebook-container');\n",
       "if (notebookContainer) {{\n",
       "    x.observe(notebookContainer, {childList: true});\n",
       "}}\n",
       "\n",
       "// Listen for the clearing of the current output cell\n",
       "var outputEl = gd.closest('.output');\n",
       "if (outputEl) {{\n",
       "    x.observe(outputEl, {childList: true});\n",
       "}}\n",
       "\n",
       "                        })                };                });            </script>        </div>"
      ]
     },
     "metadata": {},
     "output_type": "display_data"
    }
   ],
   "source": [
    "\n",
    "fig = px.bar(df_all_motives[df_all_motives['Periods']==2019], x='Region characteristics', y='Average per person per day/Trips (number)', color='Travel modes', \n",
    "             title=\"Travel modes in different amount of urbanizations\")\n",
    "#fig.update_yaxes()\n",
    "fig.update_yaxes(categoryorder='total descending')\n",
    "fig.update_layout#(xaxis={'categoryorder':'total descending'})\n",
    "fig.update_traces(textposition='outside')"
   ]
  },
  {
   "cell_type": "markdown",
   "metadata": {},
   "source": [
    "Questions:\n",
    "●\tWe have some difficulties with finding a nice data set that fits our research question. We came up with some data files that provide us some of the data, but not all of it. Could you maybe provide more datasets? Maybe for other countries?\n"
   ]
  }
 ],
 "metadata": {
  "kernelspec": {
   "display_name": "Python 3 (ipykernel)",
   "language": "python",
   "name": "python3"
  },
  "language_info": {
   "codemirror_mode": {
    "name": "ipython",
    "version": 3
   },
   "file_extension": ".py",
   "mimetype": "text/x-python",
   "name": "python",
   "nbconvert_exporter": "python",
   "pygments_lexer": "ipython3",
   "version": "3.10.4"
  },
  "vscode": {
   "interpreter": {
    "hash": "31f2aee4e71d21fbe5cf8b01ff0e069b9275f58929596ceb00d14d90e3e16cd6"
   }
  }
 },
 "nbformat": 4,
 "nbformat_minor": 2
}
